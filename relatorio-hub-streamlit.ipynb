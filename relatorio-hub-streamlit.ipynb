{
 "cells": [
  {
   "cell_type": "code",
   "execution_count": 1,
   "id": "81c83eb5-daf1-4a34-a8ae-6cb577e3590c",
   "metadata": {},
   "outputs": [],
   "source": [
    "import pandas as pd\n",
    "import plotly.express as px\n",
    "import plotly.graph_objects as go"
   ]
  },
  {
   "cell_type": "code",
   "execution_count": 2,
   "id": "70377362-479f-4a47-8e90-934668a105b7",
   "metadata": {},
   "outputs": [],
   "source": [
    "fonte_texto = dict(\n",
    "        family=\"Arial, serif\",  # Fonte gótica\n",
    "        size=14,                              # Tamanho da fonte\n",
    "        color=\"white\"                         # Cor da fonte\n",
    "    )\n",
    "\n",
    "fonte_titulo = dict(\n",
    "            size=24,              # Tamanho do título\n",
    "            family=\"Old English Text MT, serif\",  # Fonte do título\n",
    "            color=\"white\"      # Cor do título\n",
    "        )\n",
    "\n",
    "legenda = dict(\n",
    "        title=\"Legenda\",\n",
    "        x=1,\n",
    "        y=1,\n",
    "        bgcolor=\"black\",\n",
    "        bordercolor=\"white\",\n",
    "        borderwidth=1\n",
    ")"
   ]
  },
  {
   "cell_type": "markdown",
   "id": "e7b35841-4066-4790-8f31-e900eff89dc7",
   "metadata": {},
   "source": [
    "# Limpeza"
   ]
  },
  {
   "cell_type": "code",
   "execution_count": 4,
   "id": "45c48d02-f269-46d8-8f01-b4e7d4ab732f",
   "metadata": {},
   "outputs": [],
   "source": [
    "base = pd.read_csv(\"relatorio_streamlit.csv\")"
   ]
  },
  {
   "cell_type": "code",
   "execution_count": 5,
   "id": "3bcaba22-a18b-4101-b3ec-2d2c3457bc7a",
   "metadata": {},
   "outputs": [],
   "source": [
    "# Corrigir a definição dos nomes das colunas\n",
    "base.columns = ['id', 'cliente', 'etapa', 'origem', 'convenio', 'comissao_total', \n",
    "                'valor_pago', 'tipo_campanha', 'tag_campanha', 'telefone', 'cpf', \n",
    "                'vendedor_proprietario']\n",
    "\n",
    "# Aplicar a substituição na coluna 'etapa' usando raw string para evitar SyntaxWarning\n",
    "base['etapa'] = base['etapa'].astype(str).str.replace(r\" \\( Pipeline de Vendas\\)\", \"\", regex=True)\n",
    "base['etapa'] = base['etapa'].astype(str).str.replace(r\" \\(Pipeline de Disparos?\\)\", \"\", regex=True).str.upper()\n",
    "\n",
    "\n",
    "# Remover \".0\" da coluna 'cpf'\n",
    "base['cpf'] = base['cpf'].astype(str).str.replace(\".0\", \"\")"
   ]
  },
  {
   "cell_type": "code",
   "execution_count": 6,
   "id": "bdd5ea57-85c9-43f0-9a61-8ea307b77cb1",
   "metadata": {},
   "outputs": [],
   "source": [
    "bins = [0, 499, 800, 1200, 1500, float('inf')]\n",
    "labels = ['0-499', '500-800', '800-1200', '1200-1500', '1800+']\n",
    "base['faixa_comissao'] = pd.cut(base['comissao_total'], bins=bins, labels=labels, right=True, include_lowest=True)"
   ]
  },
  {
   "cell_type": "markdown",
   "id": "8b3f41ce-4ab6-4516-ac4d-c2992ddcba16",
   "metadata": {},
   "source": [
    "# 1 - Quantidade de leads por origem"
   ]
  },
  {
   "cell_type": "code",
   "execution_count": null,
   "id": "a4fea74f-0635-436d-b8f9-6fafbad81a36",
   "metadata": {},
   "outputs": [],
   "source": [
    "leads_por_origem = base.groupby(\"origem\")['id'].size().reset_index(name=\"quantidade\").sort_values(by='quantidade', ascending=False)\n",
    "leads_por_origem = leads_por_origem.loc[leads_por_origem['quantidade'] > 10]"
   ]
  },
  {
   "cell_type": "code",
   "execution_count": null,
   "id": "3a422990-669b-4e8d-9a66-8c40ca2b4b58",
   "metadata": {},
   "outputs": [],
   "source": [
    "fig = px.bar(leads_por_origem,\n",
    "              x='quantidade',\n",
    "              y='origem',\n",
    "              color='origem',\n",
    "              barmode='group'\n",
    "             )\n",
    "\n",
    "fig.update_layout(title=dict(\n",
    "                        text=\"Quantidade de leads gerados\",\n",
    "                        x=0.5,                                # Centraliza o título\n",
    "                        xanchor='center',\n",
    "                        yanchor='top', \n",
    "                        font=fonte_titulo), \n",
    "                  xaxis_title=\"Quantidade\", \n",
    "                  yaxis_title=\"\",\n",
    "                  font=fonte_texto,\n",
    "                  width=1080,\n",
    "                  height=500,\n",
    "                  template='plotly_dark',\n",
    "                  margin=dict(l=10, r=0, t=50, b=50),\n",
    "                  legend=legenda,\n",
    "                  plot_bgcolor='black',\n",
    "                  paper_bgcolor='black'\n",
    "                 )\n",
    "\n",
    "fig.show()"
   ]
  },
  {
   "cell_type": "markdown",
   "id": "3c16e146-4d93-4ad3-b06d-ce6800c570cb",
   "metadata": {},
   "source": [
    "# 2 - Distribuição dos leads no funil por origem"
   ]
  },
  {
   "cell_type": "code",
   "execution_count": null,
   "id": "9c567e30-d78a-432a-a4fe-bb4ce42d8118",
   "metadata": {},
   "outputs": [],
   "source": [
    "distrib_funil_por_origem = base.groupby(['origem', 'etapa'])['id'].size().reset_index(name='quantidade')\n",
    "totais_por_origem = distrib_funil_por_origem.groupby('origem')['quantidade'].sum()\n",
    "origens_validas = totais_por_origem[totais_por_origem > 5].index\n",
    "distrib_funil_por_origem_filtrado = distrib_funil_por_origem[distrib_funil_por_origem['origem'].isin(origens_validas)]"
   ]
  },
  {
   "cell_type": "code",
   "execution_count": null,
   "id": "83b66a11-f853-435d-9a08-afcf909d818d",
   "metadata": {},
   "outputs": [],
   "source": [
    "fig = px.bar(\n",
    "    distrib_funil_por_origem_filtrado, \n",
    "    x='origem',               # Agrupamento no eixo X por origem\n",
    "    y='quantidade',           # Quantidade no eixo Y\n",
    "    color='etapa',            # Diferenciar pelas etapas (barra agrupada por cor)\n",
    "    barmode='group',          # Configuração para barras agrupadas\n",
    "    title=\"Distribuição das Etapas por Origem\",  # Título do gráfico\n",
    "    labels={\n",
    "        'origem': 'Origem dos Leads',\n",
    "        'quantidade': 'Quantidade',\n",
    "        'etapa': 'Etapas do Funil'\n",
    "    }\n",
    ")\n",
    "\n",
    "fig.update_layout(title=dict(\n",
    "                        text=\"Distribuição de leads no funil por origem\",\n",
    "                        x=0.5,                                # Centraliza o título\n",
    "                        xanchor='center',\n",
    "                        yanchor='top', \n",
    "                        font=fonte_titulo), \n",
    "                  xaxis_title=\"Origem\", \n",
    "                  yaxis_title=\"Quantidade\",\n",
    "                  font=fonte_texto,\n",
    "                  width=1080,\n",
    "                  height=500,\n",
    "                  template='plotly_dark',\n",
    "                  margin=dict(l=10, r=0, t=50, b=50),\n",
    "                  legend=legenda,\n",
    "                  plot_bgcolor='black',\n",
    "                  paper_bgcolor='black'\n",
    "                 )\n",
    "\n",
    "fig.show()"
   ]
  },
  {
   "cell_type": "markdown",
   "id": "86021b73-a5ae-4215-8ca4-49758286e9a0",
   "metadata": {},
   "source": [
    "# 3 - Leads por Convênio Segmentados por Origem"
   ]
  },
  {
   "cell_type": "code",
   "execution_count": null,
   "id": "c2d81de5-47e7-463d-a062-ce4825f26533",
   "metadata": {},
   "outputs": [],
   "source": [
    "leads_por_convenio = base.groupby(['convenio', 'origem'])['id'].size().reset_index(name='quantidade')\n",
    "leads_por_convenio = leads_por_convenio.loc[leads_por_convenio['quantidade'] > 5]\n",
    "\n",
    "totais_por_convenio = leads_por_convenio.groupby('convenio')['quantidade'].sum().sort_values(ascending=False)\n",
    "leads_por_convenio = leads_por_convenio.set_index('convenio')  # Define 'convenio' como índice temporariamente\n",
    "leads_por_convenio = leads_por_convenio.loc[totais_por_convenio.index]  # Reordena pelo índice\n",
    "leads_por_convenio = leads_por_convenio.reset_index()  # Restaura o índice padrão"
   ]
  },
  {
   "cell_type": "code",
   "execution_count": null,
   "id": "57412b8b-ad84-4942-b1ef-1a1f19425897",
   "metadata": {},
   "outputs": [],
   "source": [
    "quantidade_maxima_convenios = 10\n",
    "top_convenios = leads_por_convenio.groupby('convenio')['quantidade'].sum() \\\n",
    "                                  .nlargest(quantidade_maxima_convenios).index\n",
    "leads_por_convenio_filtrado = leads_por_convenio[leads_por_convenio['convenio'].isin(top_convenios)]"
   ]
  },
  {
   "cell_type": "code",
   "execution_count": null,
   "id": "d0eff161-238f-4914-bab1-9ce59d8364dd",
   "metadata": {},
   "outputs": [],
   "source": [
    "fig = px.bar(\n",
    "    leads_por_convenio_filtrado, \n",
    "    x='quantidade',               # Quantidade no eixo X\n",
    "    y='convenio',                 # Convênio no eixo Y\n",
    "    color='origem',               # Diferenciar pelas origens\n",
    "    title=\"Distribuição dos Leads por Convênio e Origem\",  # Título do gráfico\n",
    "    labels={\n",
    "        'origem': 'Origem dos Leads',\n",
    "        'quantidade': 'Quantidade',\n",
    "        'convenio': 'Convênio'\n",
    "    }\n",
    ")\n",
    "\n",
    "# Configurações adicionais do layout\n",
    "fig.update_layout(\n",
    "    title=dict(\n",
    "        text=\"Distribuição de Leads por Convênio e Origem\",\n",
    "        x=0.5,                     # Centraliza o título\n",
    "        xanchor='center',\n",
    "        yanchor='top', \n",
    "        font=fonte_titulo\n",
    "    ), \n",
    "    xaxis_title=\"Quantidade\",\n",
    "    yaxis_title=\"Convênios\",\n",
    "    font=fonte_texto,\n",
    "    width=1080,\n",
    "    height=500,\n",
    "    template='plotly_dark',\n",
    "    margin=dict(l=10, r=0, t=50, b=50),\n",
    "    legend=legenda,\n",
    "    plot_bgcolor='black',\n",
    "    paper_bgcolor='black'\n",
    ")\n",
    "\n",
    "# Mostrar o gráfico\n",
    "fig.show()\n"
   ]
  },
  {
   "cell_type": "markdown",
   "id": "e47c24c1-c380-4300-9946-bdd38e333ed1",
   "metadata": {},
   "source": [
    "# 4 - Quantidade de leads por convenio segmentado pela comissão"
   ]
  },
  {
   "cell_type": "code",
   "execution_count": null,
   "id": "72c32ae0-4f67-4dfd-8cc8-693e99bbe067",
   "metadata": {},
   "outputs": [],
   "source": [
    "leads_comissao = base.groupby(['convenio', 'faixa_comissao'], observed=True)['id'].size().reset_index(name='quantidade')"
   ]
  },
  {
   "cell_type": "code",
   "execution_count": null,
   "id": "db947353-1f28-441f-9e28-cbc837b6453e",
   "metadata": {},
   "outputs": [],
   "source": [
    "quantidade_maxima_convenios = 10\n",
    "\n",
    "# Calcular o total de leads por convênio e selecionar os top N\n",
    "top_convenios = leads_comissao.groupby('convenio')['quantidade'].sum() \\\n",
    "                              .nlargest(quantidade_maxima_convenios).index\n",
    "\n",
    "leads_comissao_filtrado = leads_comissao[leads_comissao['convenio'].isin(top_convenios)]"
   ]
  },
  {
   "cell_type": "code",
   "execution_count": null,
   "id": "40905e17-9c32-4516-b16f-b51d98f4c680",
   "metadata": {},
   "outputs": [],
   "source": [
    "fig = px.bar(\n",
    "    leads_comissao_filtrado, \n",
    "    x='quantidade',               # Quantidade no eixo X\n",
    "    y='convenio',                 # Convênio no eixo Y\n",
    "    color='faixa_comissao',       # Diferenciar pelas faixas de comissão\n",
    "    title=\"Quantidade de leads por convênio segmentado pela comissão\",  # Título do gráfico\n",
    "    labels={\n",
    "        'faixa_comissao': 'Faixa de Comissão',\n",
    "        'quantidade': 'Quantidade',\n",
    "        'convenio': 'Convênio'\n",
    "    }\n",
    ")\n",
    "\n",
    "# Configurações adicionais do layout\n",
    "fig.update_layout(\n",
    "    title=dict(\n",
    "        text=\"Distribuição de Leads por Convênio e Comissão\",\n",
    "        x=0.5,                     # Centraliza o título\n",
    "        xanchor='center',\n",
    "        yanchor='top', \n",
    "        font=fonte_titulo\n",
    "    ), \n",
    "    xaxis_title=\"Quantidade\",\n",
    "    yaxis_title=\"Convênios\",\n",
    "    font=fonte_texto,\n",
    "    width=1080,\n",
    "    height=500,\n",
    "    template='plotly_dark',\n",
    "    margin=dict(l=10, r=0, t=50, b=50),\n",
    "    legend=legenda,\n",
    "    plot_bgcolor='black',\n",
    "    paper_bgcolor='black'\n",
    ")\n",
    "\n",
    "# Mostrar o gráfico\n",
    "fig.show()"
   ]
  },
  {
   "cell_type": "code",
   "execution_count": 12,
   "id": "6d66733b-23a9-4f90-ad62-4cab29ffbd0f",
   "metadata": {},
   "outputs": [
    {
     "data": {
      "text/plain": [
       "['#0d0887',\n",
       " '#46039f',\n",
       " '#7201a8',\n",
       " '#9c179e',\n",
       " '#bd3786',\n",
       " '#d8576b',\n",
       " '#ed7953',\n",
       " '#fb9f3a',\n",
       " '#fdca26',\n",
       " '#f0f921']"
      ]
     },
     "execution_count": 12,
     "metadata": {},
     "output_type": "execute_result"
    }
   ],
   "source": [
    "px.colors.sequential.Plasma\n"
   ]
  }
 ],
 "metadata": {
  "kernelspec": {
   "display_name": "Python 3 (ipykernel)",
   "language": "python",
   "name": "python3"
  },
  "language_info": {
   "codemirror_mode": {
    "name": "ipython",
    "version": 3
   },
   "file_extension": ".py",
   "mimetype": "text/x-python",
   "name": "python",
   "nbconvert_exporter": "python",
   "pygments_lexer": "ipython3",
   "version": "3.12.4"
  }
 },
 "nbformat": 4,
 "nbformat_minor": 5
}
